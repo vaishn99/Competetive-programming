{
 "cells": [
  {
   "cell_type": "code",
   "execution_count": null,
   "metadata": {},
   "outputs": [
    {
     "ename": "",
     "evalue": "",
     "output_type": "error",
     "traceback": [
      "\u001b[1;31mFailed to start the Kernel. \n",
      "\u001b[1;31mTraceback (most recent call last):\n",
      "\u001b[1;31m  File \"/Users/vaishnav/Library/Python/3.10/lib/python/site-packages/traitlets/config/application.py\", line 110, in inner\n",
      "\u001b[1;31m    return method(app, *args, **kwargs)\n",
      "\u001b[1;31m  File \"/Users/vaishnav/Library/Python/3.10/lib/python/site-packages/traitlets/config/application.py\", line 824, in parse_command_line\n",
      "\u001b[1;31m    self.update_config(self.cli_config)\n",
      "\u001b[1;31m  File \"/Users/vaishnav/Library/Python/3.10/lib/python/site-packages/traitlets/config/configurable.py\", line 230, in update_config\n",
      "\u001b[1;31m    self._load_config(config)\n",
      "\u001b[1;31m  File \"/Users/vaishnav/Library/Python/3.10/lib/python/site-packages/traitlets/config/configurable.py\", line 167, in _load_config\n",
      "\u001b[1;31m    with self.hold_trait_notifications():\n",
      "\u001b[1;31m  File \"/Library/Frameworks/Python.framework/Versions/3.10/lib/python3.10/contextlib.py\", line 142, in __exit__\n",
      "\u001b[1;31m    next(self.gen)\n",
      "\u001b[1;31m  File \"/Users/vaishnav/Library/Python/3.10/lib/python/site-packages/traitlets/traitlets.py\", line 1362, in hold_trait_notifications\n",
      "\u001b[1;31m    raise e\n",
      "\u001b[1;31m  File \"/Users/vaishnav/Library/Python/3.10/lib/python/site-packages/traitlets/traitlets.py\", line 1348, in hold_trait_notifications\n",
      "\u001b[1;31m    value = trait._cross_validate(self, getattr(self, name))\n",
      "\u001b[1;31m  File \"/Users/vaishnav/Library/Python/3.10/lib/python/site-packages/traitlets/traitlets.py\", line 729, in _cross_validate\n",
      "\u001b[1;31m    value = obj._trait_validators<a href='obj, proposal'>self.name</a>\n",
      "\u001b[1;31m  File \"/Users/vaishnav/Library/Python/3.10/lib/python/site-packages/traitlets/traitlets.py\", line 1132, in __call__\n",
      "\u001b[1;31m    return self.func(*args, **kwargs)\n",
      "\u001b[1;31m  File \"/Users/vaishnav/Library/Python/3.10/lib/python/site-packages/notebook/notebookapp.py\", line 1522, in _notebook_dir_validate\n",
      "\u001b[1;31m    raise TraitError(trans.gettext(\"No such notebook dir: '%r'\") % value)\n",
      "\u001b[1;31mtraitlets.traitlets.TraitError: No such notebook dir: ''/vaishn99/Competetive-programming''\n",
      "\u001b[1;31m\n",
      "\u001b[1;31mDuring handling of the above exception, another exception occurred:\n",
      "\u001b[1;31m\n",
      "\u001b[1;31mTraceback (most recent call last):\n",
      "\u001b[1;31m  File \"/Users/vaishnav/.vscode/extensions/ms-toolsai.jupyter-2022.11.1003412109/pythonFiles/vscode_datascience_helpers/daemon/daemon_python.py\", line 54, in _decorator\n",
      "\u001b[1;31m    return func(self, *args, **kwargs)\n",
      "\u001b[1;31m  File \"/Users/vaishnav/.vscode/extensions/ms-toolsai.jupyter-2022.11.1003412109/pythonFiles/vscode_datascience_helpers/jupyter_daemon.py\", line 111, in m_exec_module_observable\n",
      "\u001b[1;31m    self._start_notebook(args, cwd, env)\n",
      "\u001b[1;31m  File \"/Users/vaishnav/.vscode/extensions/ms-toolsai.jupyter-2022.11.1003412109/pythonFiles/vscode_datascience_helpers/jupyter_daemon.py\", line 168, in _start_notebook\n",
      "\u001b[1;31m    app.launch_new_instance()\n",
      "\u001b[1;31m  File \"/Users/vaishnav/Library/Python/3.10/lib/python/site-packages/jupyter_core/application.py\", line 269, in launch_instance\n",
      "\u001b[1;31m    return super().launch_instance(argv=argv, **kwargs)\n",
      "\u001b[1;31m  File \"/Users/vaishnav/Library/Python/3.10/lib/python/site-packages/traitlets/config/application.py\", line 981, in launch_instance\n",
      "\u001b[1;31m    app.initialize(argv)\n",
      "\u001b[1;31m  File \"/Users/vaishnav/Library/Python/3.10/lib/python/site-packages/traitlets/config/application.py\", line 110, in inner\n",
      "\u001b[1;31m    return method(app, *args, **kwargs)\n",
      "\u001b[1;31m  File \"/Users/vaishnav/Library/Python/3.10/lib/python/site-packages/notebook/notebookapp.py\", line 2141, in initialize\n",
      "\u001b[1;31m    super().initialize(argv)\n",
      "\u001b[1;31m  File \"/Users/vaishnav/Library/Python/3.10/lib/python/site-packages/traitlets/config/application.py\", line 110, in inner\n",
      "\u001b[1;31m    return method(app, *args, **kwargs)\n",
      "\u001b[1;31m  File \"/Users/vaishnav/Library/Python/3.10/lib/python/site-packages/jupyter_core/application.py\", line 240, in initialize\n",
      "\u001b[1;31m    self.parse_command_line(argv)\n",
      "\u001b[1;31m  File \"/Users/vaishnav/Library/Python/3.10/lib/python/site-packages/notebook/notebookapp.py\", line 1611, in parse_command_line\n",
      "\u001b[1;31m    super().parse_command_line(argv)\n",
      "\u001b[1;31m  File \"/Users/vaishnav/Library/Python/3.10/lib/python/site-packages/traitlets/config/application.py\", line 114, in inner\n",
      "\u001b[1;31m    app.exit(1)\n",
      "\u001b[1;31m  File \"/Users/vaishnav/Library/Python/3.10/lib/python/site-packages/traitlets/config/application.py\", line 969, in exit\n",
      "\u001b[1;31m    sys.exit(exit_status)\n",
      "\u001b[1;31mSystemExit: 1\n",
      "\u001b[1;31m\n",
      "\u001b[1;31m[C 15:37:11.654 NotebookApp] Bad config encountered during initialization: No such notebook dir: ''/vaishn99/Competetive-programming''\n",
      "\u001b[1;31m\n",
      "\u001b[1;31mFailed to run jupyter as observable with args notebook --no-browser --notebook-dir=\"/vaishn99/Competetive-programming\" --config=/var/folders/8d/7g7wmn5x63q31tbglz6yl_980000gn/T/ffbaa3cb-4d09-4fb8-bb71-9c626ee4a318/jupyter_notebook_config.py --NotebookApp.iopub_data_rate_limit=10000000000.0"
     ]
    }
   ],
   "source": [
    "text1=\"abcde\"\n",
    "text2=\"ace\"\n",
    "\n",
    "def list_2_dict(A): # O(n)\n",
    "    dict_A =dict()\n",
    "    for a in A:\n",
    "        if a in dict_A:\n",
    "            dict_A[a]+=1\n",
    "        else:\n",
    "            dict_A[a]=1\n",
    "\n",
    "\n",
    "dict_text1,dict_text2=list_2_dict(text1),list_2_dict(text2)\n",
    "i=-1\n",
    "carrier=[[0,-1]]     \n",
    "    \n"
   ]
  },
  {
   "cell_type": "code",
   "execution_count": null,
   "metadata": {},
   "outputs": [],
   "source": [
    "while i<len(text2):\n",
    "    i+=1\n",
    "    pos_list=dict_text1[text2[i]]\n",
    "    if len(pos_list)==0:\n",
    "        continue\n",
    "    new_carrier=[]\n",
    "    for pos in pos_list:\n",
    "        for item in carrier:\n",
    "            if item[1]<pos:\n",
    "                new_carrier.append([item[0]+1,pos])\n",
    "    carrier=new_carrier\n",
    "  "
   ]
  }
 ],
 "metadata": {
  "kernelspec": {
   "display_name": "Python 3 (ipykernel)",
   "language": "python",
   "name": "python3"
  },
  "orig_nbformat": 4,
  "vscode": {
   "interpreter": {
    "hash": "7e1998ff7f8aa20ada591c520b972326324e5ea05489af9e422744c7c09f6dad"
   }
  }
 },
 "nbformat": 4,
 "nbformat_minor": 2
}
