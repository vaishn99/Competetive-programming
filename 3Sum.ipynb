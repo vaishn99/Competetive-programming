{
 "cells": [
  {
   "cell_type": "code",
   "execution_count": 2,
   "metadata": {},
   "outputs": [],
   "source": [
    "import numpy as np\n",
    "from scipy.linalg import lstsq\n",
    "import time\n"
   ]
  },
  {
   "cell_type": "code",
   "execution_count": 107,
   "metadata": {},
   "outputs": [],
   "source": [
    "# Test cases\n",
    "\n",
    "A=[1,3,5,5,6,8,7,8,-1]\n",
    "# A=[1,-2,2,0,1,1]\n",
    "# A=[-1,0,1,2,-1,-4]\n",
    "# A=[0,1,1]\n",
    "# A=[0,0,0]\n",
    "# A=list(np.random.randint(-10000,10000,5000))"
   ]
  },
  {
   "cell_type": "code",
   "execution_count": 108,
   "metadata": {},
   "outputs": [],
   "source": [
    "# Supporting functions\n",
    "\n",
    "def Test_uniqueness(list,i,j):\n",
    "    if [i]==list or [j]==list or [i,j]==list or [j,i]==list:\n",
    "        return False\n",
    "    return True\n",
    "\n",
    "def list_2_Cdict(A): # O(n)\n",
    "    dict_A =dict()\n",
    "    for a in A:\n",
    "        if a in dict_A:\n",
    "            dict_A[a]+=1\n",
    "        else:\n",
    "            dict_A[a]=1\n",
    "    return dict_A\n",
    "def Cdict_2_list(C_list): # O(n)\n",
    "    list_A=list([])\n",
    "    for key,val in C_list.items():\n",
    "        list_A+=[key]*val \n",
    "    return list_A"
   ]
  },
  {
   "cell_type": "markdown",
   "metadata": {},
   "source": [
    "# 2 sum with online dict creation"
   ]
  },
  {
   "cell_type": "code",
   "execution_count": null,
   "metadata": {},
   "outputs": [],
   "source": [
    "\n",
    "\n",
    "start_time = time.time()\n",
    "\n",
    "C_list=[]\n",
    "dict_A=dict()\n",
    "\n",
    "# Online dict creation\n",
    "\n",
    "for i in range(len(A)):\n",
    "    if A[i] not in dict_A:\n",
    "        dict_A[A[i]]=i\n",
    "    if -A[i] in dict_A and dict_A[-A[i]]!=i and [i,dict_A[-A[i]]] not in C_list and [dict_A[-A[i]],i] not in C_list:\n",
    "        C_list.append([i,dict_A[-A[i]]])\n",
    "print(C_list)       \n",
    "print(\"--- %s seconds ---\" % (time.time() - start_time))   \n",
    "    "
   ]
  },
  {
   "cell_type": "markdown",
   "metadata": {},
   "source": [
    "# 3 Sum with online dict creation"
   ]
  },
  {
   "cell_type": "code",
   "execution_count": null,
   "metadata": {},
   "outputs": [],
   "source": [
    "start_time = time.time()\n",
    "\n",
    "#init\n",
    "\n",
    "dict_A=dict()\n",
    "C_list=[]\n",
    "dict_A[A[0]]=[0]\n",
    "\n",
    "for i in range(0,len(A)):\n",
    "    for j in range(i+1,len(A)):\n",
    "        \n",
    "        # Online dict creation\n",
    "        \n",
    "        if A[j] in dict_A and j not in dict_A[A[j]]:\n",
    "            dict_A[A[j]].append(j)\n",
    "        elif A[j] not in dict_A:\n",
    "            dict_A[A[j]]=[j]\n",
    "                   \n",
    "        if -(A[i]+A[j]) in dict_A and Test_uniqueness(dict_A[-(A[i]+A[j])],i,j):\n",
    "            gen=[x for x in dict_A[-(A[i]+A[j])] if x!=i and x!=j]\n",
    "            for ele in gen:\n",
    "                rep=list_2_Cdict([A[i],A[j],-A[i]-A[j]])\n",
    "                if rep not in C_list:\n",
    "                    C_list.append(rep)\n",
    "                    \n",
    "                    \n",
    "                \n",
    "\n",
    "print(list(map(Cdict_2_list,C_list)))\n",
    "print(\"--- %s seconds ---\" % (time.time() - start_time))          \n",
    "        "
   ]
  },
  {
   "cell_type": "markdown",
   "metadata": {},
   "source": [
    "# 3 Sum with offline dict creation"
   ]
  },
  {
   "cell_type": "code",
   "execution_count": null,
   "metadata": {},
   "outputs": [],
   "source": [
    "## Offline dict creation\n",
    "def list2dict(list):\n",
    "    out_dict=dict()\n",
    "    for i in range(len(list)):\n",
    "        if list[i] in out_dict:\n",
    "            out_dict[list[i]].append(i)\n",
    "        else:\n",
    "            out_dict[list[i]]=[i]\n",
    "    return out_dict\n",
    "\n",
    "\n",
    "start_time = time.time()\n",
    "\n",
    "\n",
    "\n",
    "def Test_uniqueness(list,i,j):\n",
    "    if [i]==list or [j]==list or [i,j]==list or [j,i]==list:\n",
    "        return False\n",
    "    return True\n",
    "\n",
    "def list_2_Cdict(A): # O(n)\n",
    "    dict_A =dict()\n",
    "    for a in A:\n",
    "        if a in dict_A:\n",
    "            dict_A[a]+=1\n",
    "        else:\n",
    "            dict_A[a]=1\n",
    "    return dict_A\n",
    "def Cdict_2_list(C_list): # O(n)\n",
    "    list_A=list([])\n",
    "    for key,val in C_list.items():\n",
    "        list_A+=[key]*val \n",
    "    return list_A\n",
    "\n",
    "\n",
    "\n",
    "#init\n",
    "dict_A=dict()\n",
    "C_list=[]\n",
    "dict_A[A[0]]=[0]\n",
    "dict_A=list2dict(A)\n",
    "\n",
    "for i in range(0,len(A)):\n",
    "    for j in range(i+1,len(A)):\n",
    "                   \n",
    "        if -(A[i]+A[j]) in dict_A and Test_uniqueness(dict_A[-(A[i]+A[j])],i,j):\n",
    "            gen=[x for x in dict_A[-(A[i]+A[j])] if x!=i and x!=j]\n",
    "            for ele in gen:\n",
    "                rep=list_2_Cdict([A[i],A[j],-A[i]-A[j]])\n",
    "                if rep not in C_list:\n",
    "                    C_list.append(rep)\n",
    "                    \n",
    "                    \n",
    "                \n",
    "\n",
    "print(list(map(Cdict_2_list,C_list)))\n",
    "print(\"--- %s seconds ---\" % (time.time() - start_time))          \n",
    "        "
   ]
  },
  {
   "cell_type": "markdown",
   "metadata": {},
   "source": [
    "# 3 Sum with itertools.combinations "
   ]
  },
  {
   "cell_type": "code",
   "execution_count": null,
   "metadata": {},
   "outputs": [],
   "source": [
    "from itertools import combinations\n",
    "\n",
    "start_time = time.time()\n",
    "\n",
    "\n",
    "\n",
    "Ref0_comb_A=[list(comb) for comb in combinations(A,3) if sum(list(comb))==0]\n",
    "Ref1_comb_A=list(map(list_2_Cdict,Ref0_comb_A))\n",
    "Ref2_comb_A=[]\n",
    "\n",
    "for ele in Ref1_comb_A:\n",
    "    if ele not in Ref2_comb_A:\n",
    "        Ref2_comb_A.append(ele)       \n",
    "Ref3_comb_A=list(map(Cdict_2_list,Ref2_comb_A))\n",
    "print(\"--- %s seconds ---\" % (time.time() - start_time)) "
   ]
  },
  {
   "cell_type": "markdown",
   "metadata": {},
   "source": [
    "# 2 Sum with 2-pointer approach"
   ]
  },
  {
   "cell_type": "code",
   "execution_count": null,
   "metadata": {},
   "outputs": [],
   "source": [
    "A.sort()\n",
    "l=0\n",
    "u=len(A)-1\n",
    "target=0\n",
    "C_list=[]\n",
    "while l<u:\n",
    "    if A[l]+A[u]==target:\n",
    "        C_list.append([A[l],A[u]])\n",
    "        l+=1\n",
    "        u-=1\n",
    "    elif A[l]+A[u]<target:\n",
    "        l+=1\n",
    "    else:\n",
    "        u-=1\n",
    "print(C_list)"
   ]
  },
  {
   "cell_type": "markdown",
   "metadata": {},
   "source": [
    "# 3 sum with two pointer approach"
   ]
  },
  {
   "cell_type": "code",
   "execution_count": 106,
   "metadata": {},
   "outputs": [
    {
     "name": "stdout",
     "output_type": "stream",
     "text": [
      "[]\n"
     ]
    }
   ],
   "source": [
    "\n",
    "A.sort()\n",
    "target=0\n",
    "C_list=[]\n",
    "\n",
    "for i in range(len(A)-2):\n",
    "    if i>0 and A[i]==A[i-1]:\n",
    "        continue\n",
    "    l=i+1\n",
    "    u=len(A)-1\n",
    "    while l<u:\n",
    "        if A[i]+A[l]+A[u]==target:\n",
    "            if [A[i],A[l],A[j]] not in C_list:\n",
    "                C_list.append(sorted([A[i],A[l],A[u]]))\n",
    "            l+=1\n",
    "            u-=1\n",
    "        elif A[i]+A[l]+A[u]<target:\n",
    "            l+=1\n",
    "        else:\n",
    "            u-=1\n",
    "print(C_list)    "
   ]
  },
  {
   "cell_type": "markdown",
   "metadata": {},
   "source": [
    "# Exception handling-1"
   ]
  },
  {
   "cell_type": "code",
   "execution_count": null,
   "metadata": {},
   "outputs": [],
   "source": [
    "import math\n",
    "A=[1,2,3,4,9,8,9,-5,-7,-8,-9]\n",
    "\n",
    "try:\n",
    "    if math.sqrt(A[9])==9:\n",
    "        print(\"Hey\")\n",
    "except IndexError:\n",
    "    if A[len(A)-1]==9:\n",
    "        print(\"Hey\")\n",
    "except ValueError:\n",
    "    if 9==9:\n",
    "        print(\"Hey\")\n",
    "else:\n",
    "    pass\n",
    "finally:\n",
    "    pass      "
   ]
  },
  {
   "cell_type": "markdown",
   "metadata": {},
   "source": [
    "## Important learning:\n",
    "\n",
    "- Representation (List,Dict etc.)\n",
    "    - list to C_dict\n",
    "    - C_dict to list\n",
    "    - list to P_dict\n",
    "    - P_dict to list\n",
    "    - list to sorted list (This is Important ! :smiley:)\n",
    "- Dict(Hash map) to reduce the search time to O(1).\n",
    "- Optimal Time :\n",
    "    - 2Sum in O(n)\n",
    "    - 3Sum in O(n^2)\n",
    "-  Programming paradigms:\n",
    "    - Dict instead of list\n",
    "    - two pointer approach given a sorted array.\n",
    "- Execption handling:\n",
    "    ## Add image here"
   ]
  }
 ],
 "metadata": {
  "kernelspec": {
   "display_name": "Python 3.10.6 ('base')",
   "language": "python",
   "name": "python3"
  },
  "language_info": {
   "codemirror_mode": {
    "name": "ipython",
    "version": 3
   },
   "file_extension": ".py",
   "mimetype": "text/x-python",
   "name": "python",
   "nbconvert_exporter": "python",
   "pygments_lexer": "ipython3",
   "version": "3.10.6"
  },
  "orig_nbformat": 4,
  "vscode": {
   "interpreter": {
    "hash": "6e872db74701285375ebfb9105b0c126cac10abb2bffaae3e8afd313f1cce9cb"
   }
  }
 },
 "nbformat": 4,
 "nbformat_minor": 2
}
